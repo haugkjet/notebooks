{
 "cells": [
  {
   "cell_type": "markdown",
   "id": "6c578cff-5b60-44bd-b92f-64867099e274",
   "metadata": {},
   "source": [
    "## Lesson 4: Practical Deep Learning for Coders 2022"
   ]
  },
  {
   "cell_type": "markdown",
   "id": "93758067-b5c3-41d1-b469-67f688a4330a",
   "metadata": {},
   "source": [
    "About NLP (natual language processing)\n",
    "Difficult, need to know about grammar, math and how language is structured\n"
   ]
  },
  {
   "cell_type": "markdown",
   "id": "e9f25a71-6133-4e7d-ba2c-d104ec0432f7",
   "metadata": {},
   "source": [
    "Will use HuggingFace instead of fast.ai (more low level, will be integrated into fastai)"
   ]
  },
  {
   "cell_type": "markdown",
   "id": "0ee507e2-8808-4846-9120-b222c61bbaa9",
   "metadata": {},
   "source": [
    "Transformer, base on pretrained model and optimize/find parameters for specific use care."
   ]
  },
  {
   "cell_type": "markdown",
   "id": "e2447ab9-78db-464d-ab73-149ad30ab630",
   "metadata": {},
   "source": [
    "ULMFit, based on wikipedia predict next word.Tried in IMDB will predict sentiment of movie review (positive or negative)"
   ]
  },
  {
   "cell_type": "markdown",
   "id": "b8ace9ac-4a2a-48da-a48f-7a66a00f5132",
   "metadata": {},
   "source": [
    "ULMfit based in RRN, at the same time transformers came around, utilize hardware such as google TPU.\n",
    "Transformer masked language model is more modern"
   ]
  },
  {
   "cell_type": "markdown",
   "id": "cfb74ee4-a034-4d9d-baf3-78bed03b1094",
   "metadata": {},
   "source": [
    "Idea: Earlier layers detect base shapes, Edges, circles, cornes. Later layers find what we are acually looking for.. Dog/Cat etc"
   ]
  },
  {
   "cell_type": "markdown",
   "id": "0a30d1fc-71f6-4601-95a5-ddaa95f4c65f",
   "metadata": {},
   "source": [
    "NLP most used for classification\n",
    "* Sentiment\n",
    "* Autor Topic\n",
    "* Spam"
   ]
  },
  {
   "cell_type": "markdown",
   "id": "bae86491-7263-4e28-9e02-9e16734cbd5f",
   "metadata": {},
   "source": [
    "Kaggle good for beginners but limited notebook functionality. Paperspace or running on own computer is alternatives"
   ]
  },
  {
   "cell_type": "markdown",
   "id": "12a05f2b-3fe7-47bf-9bc4-618296cb1b41",
   "metadata": {},
   "source": [
    "Keylibs data science:\n",
    "* numpy\n",
    "* matplotlib\n",
    "* pandas\n",
    "* pytorch (fastai)\n",
    "* sklearn (for \"classic\" machine learing like linear regression)"
   ]
  },
  {
   "cell_type": "markdown",
   "id": "ec7450a7-7a73-4aed-8f8a-c64f48d5734e",
   "metadata": {},
   "source": [
    "Link to example notebook from Jeremy.\n",
    " * https://www.kaggle.com/code/jhoward/getting-started-with-nlp-for-absolute-beginners\n",
    " * (Competition) https://www.kaggle.com/competitions/us-patent-phrase-to-phrase-matching\n"
   ]
  },
  {
   "cell_type": "markdown",
   "id": "8a417b60-ce8e-4580-98e9-b528b7d6cb75",
   "metadata": {},
   "source": [
    "NLP deep learning has only been around for a year ( as opposed to comuter vision) difficult to say what is the \"best\" as the community is figuring this out. On Hugging Face Hub there is a lot of (experimental) models. However\" microsoft/deberta-v3-small is a good model to start with."
   ]
  },
  {
   "cell_type": "markdown",
   "id": "57271015-b659-425e-99a9-afd4ff1c892a",
   "metadata": {},
   "source": [
    "Must convert strings (tokens) to number to put into the model."
   ]
  },
  {
   "cell_type": "markdown",
   "id": "3b0e6505-4a4a-4d2c-8a73-ccc3b186af6a",
   "metadata": {},
   "source": [
    "Core idea in ML: Having separate training, validation and test data sets.\n",
    "Control overfitting"
   ]
  },
  {
   "cell_type": "markdown",
   "id": "96b3d4d4-1873-4a73-b3ae-39c18a6ef880",
   "metadata": {},
   "source": [
    "For time series one should not remove random points but the last from the end (few weeks in a stock chart)"
   ]
  },
  {
   "cell_type": "markdown",
   "id": "372f7c9e-f55a-4245-a787-85c77562f085",
   "metadata": {},
   "source": [
    "1 h of 1h30\n"
   ]
  },
  {
   "cell_type": "markdown",
   "id": "b8f57adf-eeb2-40d5-b9ba-7a99978b2883",
   "metadata": {},
   "source": [
    "There is no single metric to use. Part art part science. Function in model, complexity humans.\n",
    "https://www.fast.ai/2019/09/24/metrics/\n"
   ]
  },
  {
   "cell_type": "markdown",
   "id": "0ab16bfb-af3e-4d60-974f-992d5d6324c9",
   "metadata": {},
   "source": [
    "In this example though: Pearson correlation coeffisient"
   ]
  },
  {
   "cell_type": "markdown",
   "id": "880a74d3-6919-4bd7-a976-ad766759c88d",
   "metadata": {},
   "source": [
    "Visualisation is very important along the way, to identify issues (outliers, truncation, etc)"
   ]
  },
  {
   "cell_type": "markdown",
   "id": "5f11bd28-9a0c-4879-9c66-75bc71db602a",
   "metadata": {},
   "source": [
    "Get a \"feel\"/intuition for each metric. What does 0.6, 0.2 etc mean in this context"
   ]
  },
  {
   "cell_type": "markdown",
   "id": "b1a6f57d-52f8-487e-8eb9-125cf5d6efce",
   "metadata": {},
   "source": [
    "Description in how Kaggle expect a dict.\n",
    "Splitting into data sets\n",
    "\n"
   ]
  },
  {
   "cell_type": "markdown",
   "id": "5be33f80-77ce-4833-a7a5-7fecab67c1cd",
   "metadata": {},
   "source": [
    "Training of model:\n",
    "fastai has a \"learner\", the equvalent in Hugginface transformers is called a \"trainer\""
   ]
  },
  {
   "cell_type": "markdown",
   "id": "4f683b32-7aaf-4b60-998a-c8e6e1125689",
   "metadata": {},
   "source": [
    "Setting of batch size (will do more in paralell but will result in mem error if too big)\n",
    "Epocs\n",
    "Learning rate (trial and error)\n"
   ]
  },
  {
   "cell_type": "markdown",
   "id": "0a6f8a30-4686-49c2-8ad0-e3020e146a15",
   "metadata": {},
   "source": [
    "Outliers should not be removed, they might require separate analysis. Can give insight. Have a strategy to understand where they came from and what to do about them"
   ]
  },
  {
   "cell_type": "markdown",
   "id": "97b17045-220f-4598-a061-2ba6fa8f29c6",
   "metadata": {},
   "source": [
    "NLP is huge oppotrnity area since only a year ago it was not possible or 10 took 10 times longer."
   ]
  },
  {
   "cell_type": "markdown",
   "id": "a651dc1e-3789-4ac2-bc37-042a0c29a488",
   "metadata": {},
   "source": [
    "Discussion about context aware bots that write on twitter arguing for one side\n",
    "* Ethical problem"
   ]
  },
  {
   "cell_type": "code",
   "execution_count": null,
   "id": "64430af6-ea3c-4e20-9df5-aa42a69f2dd9",
   "metadata": {},
   "outputs": [],
   "source": []
  }
 ],
 "metadata": {
  "kernelspec": {
   "display_name": "Python 3 (ipykernel)",
   "language": "python",
   "name": "python3"
  },
  "language_info": {
   "codemirror_mode": {
    "name": "ipython",
    "version": 3
   },
   "file_extension": ".py",
   "mimetype": "text/x-python",
   "name": "python",
   "nbconvert_exporter": "python",
   "pygments_lexer": "ipython3",
   "version": "3.9.13"
  }
 },
 "nbformat": 4,
 "nbformat_minor": 5
}
