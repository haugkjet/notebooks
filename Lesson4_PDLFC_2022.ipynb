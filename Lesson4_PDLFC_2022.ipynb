{
 "cells": [
  {
   "cell_type": "markdown",
   "id": "6c578cff-5b60-44bd-b92f-64867099e274",
   "metadata": {},
   "source": [
    "## Lesson 4: Practical Deep Learning for Coders 2022"
   ]
  },
  {
   "cell_type": "markdown",
   "id": "93758067-b5c3-41d1-b469-67f688a4330a",
   "metadata": {},
   "source": [
    "About NLP (natual language processing)\n",
    "Difficult, need to know abour grammar, math and how language is sturctured\n"
   ]
  },
  {
   "cell_type": "markdown",
   "id": "e9f25a71-6133-4e7d-ba2c-d104ec0432f7",
   "metadata": {},
   "source": [
    "Will use HuggingFace instead of fast.ai (more low level, will be integrated into fastai)"
   ]
  },
  {
   "cell_type": "markdown",
   "id": "0ee507e2-8808-4846-9120-b222c61bbaa9",
   "metadata": {},
   "source": [
    "Transformer, base on pretrained model and optimize/find parameters for specific use care."
   ]
  },
  {
   "cell_type": "markdown",
   "id": "e2447ab9-78db-464d-ab73-149ad30ab630",
   "metadata": {},
   "source": [
    "ULMFit, based on wikipedia predict next word.Tried in IMDB will predict sentiment of movie review (positive or negative)"
   ]
  },
  {
   "cell_type": "markdown",
   "id": "b8ace9ac-4a2a-48da-a48f-7a66a00f5132",
   "metadata": {},
   "source": [
    "ULMfit based in RRN, at the same time transformers came around, utilize hardware such as google TPU.\n",
    "Transformer masked language model is more modern"
   ]
  },
  {
   "cell_type": "markdown",
   "id": "cfb74ee4-a034-4d9d-baf3-78bed03b1094",
   "metadata": {},
   "source": [
    "Idea: Earlier layers detect base shapes, Edges, circles, cornes. Later layers find what we are acually looking for.. Dog/Cat etc"
   ]
  },
  {
   "cell_type": "markdown",
   "id": "0a30d1fc-71f6-4601-95a5-ddaa95f4c65f",
   "metadata": {},
   "source": [
    "NLP most used for classification\n",
    "* Sentiment\n",
    "* Autor Topic\n",
    "* Spam"
   ]
  },
  {
   "cell_type": "markdown",
   "id": "bae86491-7263-4e28-9e02-9e16734cbd5f",
   "metadata": {},
   "source": [
    "Kaggle good for beginners but limited notebook functionality. Paperspace or running on own computer is alternatives"
   ]
  },
  {
   "cell_type": "markdown",
   "id": "12a05f2b-3fe7-47bf-9bc4-618296cb1b41",
   "metadata": {},
   "source": [
    "Keylibs data science:\n",
    "* numpy\n",
    "* matplotlib\n",
    "* pandas\n",
    "* pytorch (fastai)\n",
    "* sklearn (for \"classic\" machine learing like linear regression)"
   ]
  },
  {
   "cell_type": "markdown",
   "id": "ec7450a7-7a73-4aed-8f8a-c64f48d5734e",
   "metadata": {},
   "source": [
    "Link to example notebook from Jeremy.\n",
    " * https://www.kaggle.com/code/jhoward/getting-started-with-nlp-for-absolute-beginners\n",
    " * (Competition) https://www.kaggle.com/competitions/us-patent-phrase-to-phrase-matching\n"
   ]
  },
  {
   "cell_type": "markdown",
   "id": "8a417b60-ce8e-4580-98e9-b528b7d6cb75",
   "metadata": {},
   "source": [
    "NLP deep learning has only been around for a year ( as opposed to comuter vision) difficult to say what is the \"best\" as the community is figuring this out. On Hugging Face Hub there is a lot of (experimental) models. However\" microsoft/deberta-v3-small is a good model to start with."
   ]
  },
  {
   "cell_type": "markdown",
   "id": "57271015-b659-425e-99a9-afd4ff1c892a",
   "metadata": {},
   "source": [
    "Must convert strings (tokens) to number to put into the model."
   ]
  },
  {
   "cell_type": "markdown",
   "id": "3b0e6505-4a4a-4d2c-8a73-ccc3b186af6a",
   "metadata": {},
   "source": [
    "Core idea in ML: Having separate training, validation and test data sets.\n",
    "Control overfitting"
   ]
  },
  {
   "cell_type": "markdown",
   "id": "96b3d4d4-1873-4a73-b3ae-39c18a6ef880",
   "metadata": {},
   "source": [
    "For time series one should not remove random points but the last from the end (few weeks in a stock chart)"
   ]
  },
  {
   "cell_type": "markdown",
   "id": "372f7c9e-f55a-4245-a787-85c77562f085",
   "metadata": {},
   "source": [
    "1 h of 1h30\n"
   ]
  },
  {
   "cell_type": "code",
   "execution_count": null,
   "id": "faae8d4d-dd84-4d23-8da8-3742ca59fd56",
   "metadata": {},
   "outputs": [],
   "source": []
  }
 ],
 "metadata": {
  "kernelspec": {
   "display_name": "Python 3 (ipykernel)",
   "language": "python",
   "name": "python3"
  },
  "language_info": {
   "codemirror_mode": {
    "name": "ipython",
    "version": 3
   },
   "file_extension": ".py",
   "mimetype": "text/x-python",
   "name": "python",
   "nbconvert_exporter": "python",
   "pygments_lexer": "ipython3",
   "version": "3.9.13"
  }
 },
 "nbformat": 4,
 "nbformat_minor": 5
}
