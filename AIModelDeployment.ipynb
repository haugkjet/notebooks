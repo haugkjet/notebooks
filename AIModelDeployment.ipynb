{
 "cells": [
  {
   "cell_type": "markdown",
   "id": "f985c411-ef9e-4965-97d3-d92073b7fe9a",
   "metadata": {},
   "source": [
    "Keywords\n",
    "\n",
    "* WasmEdge - Run AI inference on the edge (serveless)  vs central server.\n",
    "\n",
    "* ONNX - ONNX is an open format for ML models, allowing you to interchange models between various ML frameworks and tools. Open Neural Network eXchange (ONNX) is an open standard format for representing machine learning models. The torch. onnx module can export PyTorch models to ONNX. The model can then be consumed by any of the many runtimes that support ONNX\n"
   ]
  },
  {
   "cell_type": "markdown",
   "id": "947460d8-0084-4b25-afda-55feb8ecaba8",
   "metadata": {},
   "source": [
    "Need to build a app around the trained model. Could be a web app that \"performs\" the result of the model (image conversion/generation)"
   ]
  },
  {
   "cell_type": "code",
   "execution_count": null,
   "id": "0784f176-f17a-41da-a092-8a26d981f6cc",
   "metadata": {},
   "outputs": [],
   "source": []
  }
 ],
 "metadata": {
  "kernelspec": {
   "display_name": "Python 3 (ipykernel)",
   "language": "python",
   "name": "python3"
  },
  "language_info": {
   "codemirror_mode": {
    "name": "ipython",
    "version": 3
   },
   "file_extension": ".py",
   "mimetype": "text/x-python",
   "name": "python",
   "nbconvert_exporter": "python",
   "pygments_lexer": "ipython3",
   "version": "3.9.13"
  }
 },
 "nbformat": 4,
 "nbformat_minor": 5
}
