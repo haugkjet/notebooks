{
 "cells": [
  {
   "cell_type": "markdown",
   "id": "78afc47a-42c9-42a0-9e95-a571b2275632",
   "metadata": {},
   "source": [
    "## How to setup fastai"
   ]
  },
  {
   "cell_type": "markdown",
   "id": "32739ab7-cfae-4135-bfb4-2633fc27bb9c",
   "metadata": {},
   "source": [
    "It uses conda distribution of python. And mamba as package installer (Faster than conda)"
   ]
  },
  {
   "cell_type": "markdown",
   "id": "42f0c8db-70c6-42f2-8bcb-d86005e4e20b",
   "metadata": {},
   "source": [
    "There is a repo on fastai that help setting up some things automatically \"git@github.com:fastai/fastsetup.git\"\n"
   ]
  },
  {
   "cell_type": "markdown",
   "id": "92fc63e3-7718-480a-aed9-12b03c5b64f6",
   "metadata": {},
   "source": [
    "git clone git@github.com:fastai/fastsetup.git"
   ]
  },
  {
   "cell_type": "markdown",
   "id": "12eb5007-903b-4a93-9bc4-79959acaad67",
   "metadata": {},
   "source": [
    "Run ./setup_conda.sh"
   ]
  },
  {
   "cell_type": "markdown",
   "id": "963c7c38-5c3e-4bb1-b473-3e98bd95950d",
   "metadata": {},
   "source": [
    "mamba install ipython\n",
    "mamba install pytorch torchvision torchaudio cpuonly -c pytorch\n",
    "(with nvidia card)\n",
    "mamba install pytorch torchvision torchaudio cudatoolkit=11.2 -c pytorch -c conda-forge (problems with libs in cuda 11.6)\n",
    "mamba install jupyterlab\n",
    "\n"
   ]
  },
  {
   "cell_type": "markdown",
   "id": "83c67593-01ea-4cbe-aad7-2306b761b493",
   "metadata": {},
   "source": [
    "Run jypyter lab and go to localhost:8888"
   ]
  },
  {
   "cell_type": "markdown",
   "id": "0abe6297-53c5-474a-8322-bbc3e0af8e3c",
   "metadata": {},
   "source": [
    "To run examples in fastbook notebooks:\n",
    "\n",
    "mamba install -c fastchan sentencepiece \n",
    "\n",
    "mamba install -c fastchan torchvision \n",
    "\n",
    "mamba install -c fastchan fastbook \n"
   ]
  },
  {
   "cell_type": "markdown",
   "id": "c23d441b-52aa-4440-afcf-60bfebef8435",
   "metadata": {},
   "source": [
    "Test pytorch installation by running examples below"
   ]
  },
  {
   "cell_type": "code",
   "execution_count": 2,
   "id": "e8c23acf-5d99-4be9-9665-1defdd6b55fe",
   "metadata": {},
   "outputs": [
    {
     "name": "stderr",
     "output_type": "stream",
     "text": [
      "/home/kh/mambaforge/lib/python3.9/site-packages/torch/cuda/__init__.py:83: UserWarning: CUDA initialization: CUDA unknown error - this may be due to an incorrectly set up environment, e.g. changing env variable CUDA_VISIBLE_DEVICES after program start. Setting the available devices to be zero. (Triggered internally at  /home/conda/feedstock_root/build_artifacts/pytorch-recipe_1658255846143/work/c10/cuda/CUDAFunctions.cpp:109.)\n",
      "  return torch._C._cuda_getDeviceCount() > 0\n"
     ]
    }
   ],
   "source": [
    "import torch"
   ]
  },
  {
   "cell_type": "code",
   "execution_count": 4,
   "id": "fc765df1-c466-4939-994d-4fa2e875acd4",
   "metadata": {
    "tags": []
   },
   "outputs": [
    {
     "data": {
      "text/plain": [
       "tensor(1)"
      ]
     },
     "execution_count": 4,
     "metadata": {},
     "output_type": "execute_result"
    }
   ],
   "source": [
    "torch.tensor(1)"
   ]
  },
  {
   "cell_type": "code",
   "execution_count": 5,
   "id": "24254dd7-74e3-402a-a13a-d87cb97bcf83",
   "metadata": {},
   "outputs": [],
   "source": [
    "x = torch.rand(5, 4)"
   ]
  },
  {
   "cell_type": "code",
   "execution_count": null,
   "id": "dffeb75a-17dc-4949-a8c8-940f8dc6e4dc",
   "metadata": {},
   "outputs": [],
   "source": []
  },
  {
   "cell_type": "code",
   "execution_count": 6,
   "id": "b7316930-543a-4bed-b270-039a3ecee488",
   "metadata": {},
   "outputs": [
    {
     "name": "stdout",
     "output_type": "stream",
     "text": [
      "tensor([[0.5359, 0.4708, 0.9008, 0.6155],\n",
      "        [0.5603, 0.0096, 0.2462, 0.0844],\n",
      "        [0.5837, 0.2346, 0.2596, 0.1767],\n",
      "        [0.8629, 0.9979, 0.0554, 0.1223],\n",
      "        [0.7152, 0.4291, 0.3314, 0.0148]])\n"
     ]
    }
   ],
   "source": [
    "print(x)"
   ]
  },
  {
   "cell_type": "code",
   "execution_count": null,
   "id": "034d4f34-d019-4a25-b9a7-5c55f595c260",
   "metadata": {},
   "outputs": [],
   "source": []
  }
 ],
 "metadata": {
  "kernelspec": {
   "display_name": "Python 3 (ipykernel)",
   "language": "python",
   "name": "python3"
  },
  "language_info": {
   "codemirror_mode": {
    "name": "ipython",
    "version": 3
   },
   "file_extension": ".py",
   "mimetype": "text/x-python",
   "name": "python",
   "nbconvert_exporter": "python",
   "pygments_lexer": "ipython3",
   "version": "3.9.13"
  }
 },
 "nbformat": 4,
 "nbformat_minor": 5
}
