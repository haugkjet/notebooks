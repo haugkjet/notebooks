{
 "cells": [
  {
   "cell_type": "markdown",
   "id": "b36d0206-69fc-42e5-899c-39689e587e54",
   "metadata": {},
   "source": [
    "Remember to read the book and do the quiz"
   ]
  },
  {
   "cell_type": "markdown",
   "id": "f2c9073e-1e89-4df3-881b-a3e0acc176ef",
   "metadata": {},
   "source": [
    "aiquizzes.com"
   ]
  },
  {
   "cell_type": "markdown",
   "id": "407f5009-5ae3-40a8-baba-2357fa6e4107",
   "metadata": {},
   "source": [
    "Also checkout forums:  https://forums.fast.ai/"
   ]
  },
  {
   "cell_type": "markdown",
   "id": "e7131159-c467-472d-b351-483be549593a",
   "metadata": {},
   "source": [
    "Recap of what people have posted"
   ]
  },
  {
   "cell_type": "markdown",
   "id": "da519baa-00e1-4737-b239-d78b01ab1f88",
   "metadata": {
    "tags": []
   },
   "source": [
    "Putting the model in production"
   ]
  },
  {
   "cell_type": "markdown",
   "id": "7cb0cb18-b96b-4e50-84fd-33c4ebfbb409",
   "metadata": {},
   "source": [
    "Data cleaning"
   ]
  },
  {
   "cell_type": "markdown",
   "id": "d33412ed-847f-4f4d-a896-b2007aaab801",
   "metadata": {},
   "source": [
    "Jupyter nb extensions Install (not working locally yet)"
   ]
  },
  {
   "cell_type": "code",
   "execution_count": null,
   "id": "b354e9c7-9a58-458a-b49c-c192b339e223",
   "metadata": {},
   "outputs": [],
   "source": [
    "use ddg instad of Azure (no key needed)"
   ]
  },
  {
   "cell_type": "markdown",
   "id": "6ec5ef8f-7ee7-44f5-960e-ec1cded2de2e",
   "metadata": {},
   "source": [
    "??verify_images will find source code"
   ]
  },
  {
   "cell_type": "markdown",
   "id": "38d8e566-ad43-42a9-834f-108ec5a41d5d",
   "metadata": {},
   "source": [
    "Train  the model before cleaning the data"
   ]
  },
  {
   "cell_type": "markdown",
   "id": "37845cac-1715-430c-8454-9c4e61a6a3d3",
   "metadata": {},
   "source": [
    "Data augmentation: getting more than one picture from the same picture by cropping/scewing etc"
   ]
  },
  {
   "cell_type": "markdown",
   "id": "e38d8c99-404b-4332-8615-069bcc5f7978",
   "metadata": {},
   "source": [
    "Explanation of confusion matrix"
   ]
  },
  {
   "cell_type": "markdown",
   "id": "2d88326d-b128-4ead-8811-5749b16c2da6",
   "metadata": {},
   "source": [
    "TOp losses, "
   ]
  },
  {
   "cell_type": "markdown",
   "id": "2e957877-bc93-4fc7-abfe-c61c3978bfc3",
   "metadata": {},
   "source": [
    "IMage Classifier cleaner, not able to run (can remove wrong images)"
   ]
  },
  {
   "cell_type": "markdown",
   "id": "cdfa6f04-7750-426b-bda7-22c1502604a3",
   "metadata": {},
   "source": [
    "Clean up traing, and validation set"
   ]
  },
  {
   "cell_type": "markdown",
   "id": "69fcbc38-9bbf-49c5-920e-057a79581c44",
   "metadata": {},
   "source": [
    "Core idea to clean the data after traning of model, will learn more about which images causes problems etc."
   ]
  },
  {
   "cell_type": "markdown",
   "id": "0f6b1696-5a9e-468a-82aa-1b590a928c31",
   "metadata": {},
   "source": [
    "Model to production, book uses voila"
   ]
  },
  {
   "cell_type": "markdown",
   "id": "d27a284b-0e70-49ce-b73b-f994c382fa78",
   "metadata": {},
   "source": [
    "Now: Gradio +  HuggingFace spaces\n",
    "https://tmabraham.github.io/blog/gradio_hf_spaces_tutorial"
   ]
  },
  {
   "cell_type": "markdown",
   "id": "b90e787b-17d4-49a5-87b4-1878939f85de",
   "metadata": {},
   "source": [
    "Setup huggingsface spaces (need to register)\n",
    "Cloning repo locally"
   ]
  },
  {
   "cell_type": "markdown",
   "id": "6c313702-0611-44f0-b4b3-77aae7905798",
   "metadata": {},
   "source": [
    "Some fiddling to run this locally, but eventually pyhton app.py"
   ]
  },
  {
   "cell_type": "markdown",
   "id": "e8beed42-b90c-40ee-b718-acde91550cfa",
   "metadata": {},
   "source": [
    "Problems installing git lfs on my linux box. Had to upload each file manually using hugging face GUI"
   ]
  },
  {
   "cell_type": "code",
   "execution_count": null,
   "id": "437456d2-bcb6-498a-b5c0-eefbe5bc3b82",
   "metadata": {},
   "outputs": [],
   "source": []
  }
 ],
 "metadata": {
  "kernelspec": {
   "display_name": "Python 3 (ipykernel)",
   "language": "python",
   "name": "python3"
  },
  "language_info": {
   "codemirror_mode": {
    "name": "ipython",
    "version": 3
   },
   "file_extension": ".py",
   "mimetype": "text/x-python",
   "name": "python",
   "nbconvert_exporter": "python",
   "pygments_lexer": "ipython3",
   "version": "3.9.13"
  }
 },
 "nbformat": 4,
 "nbformat_minor": 5
}
