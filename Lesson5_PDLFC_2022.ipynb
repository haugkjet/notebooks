{
 "cells": [
  {
   "cell_type": "markdown",
   "id": "bef89aab-ab49-46b7-9bf8-e4beb8baedfe",
   "metadata": {},
   "source": [
    "Will work with tabular data.\n",
    "Recap from lesson 3. \n",
    "Built a \n",
    " * linear model \n",
    " * Simeple Neural network \n",
    " \n",
    "in excel of survivors of Titanic"
   ]
  },
  {
   "cell_type": "markdown",
   "id": "b9a53a36-bf99-4b86-ab53-70659aea1ccb",
   "metadata": {},
   "source": [
    "Will do the same in python. \n",
    "\n",
    "Workbook: https://www.kaggle.com/code/jhoward/linear-model-and-neural-net-from-scratch"
   ]
  },
  {
   "cell_type": "code",
   "execution_count": null,
   "id": "fb0fbf33-875c-49c3-ad85-730918205e57",
   "metadata": {},
   "outputs": [],
   "source": []
  }
 ],
 "metadata": {
  "kernelspec": {
   "display_name": "Python 3 (ipykernel)",
   "language": "python",
   "name": "python3"
  },
  "language_info": {
   "codemirror_mode": {
    "name": "ipython",
    "version": 3
   },
   "file_extension": ".py",
   "mimetype": "text/x-python",
   "name": "python",
   "nbconvert_exporter": "python",
   "pygments_lexer": "ipython3",
   "version": "3.9.13"
  }
 },
 "nbformat": 4,
 "nbformat_minor": 5
}
