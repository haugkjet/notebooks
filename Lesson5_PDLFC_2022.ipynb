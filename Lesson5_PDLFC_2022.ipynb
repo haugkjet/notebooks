{
 "cells": [
  {
   "cell_type": "markdown",
   "id": "bef89aab-ab49-46b7-9bf8-e4beb8baedfe",
   "metadata": {},
   "source": [
    "Will work with tabular data.\n",
    "Recap from lesson 3. \n",
    "Built a \n",
    " * linear model \n",
    " * Simeple Neural network \n",
    " \n",
    "in excel of survivors of Titanic"
   ]
  },
  {
   "cell_type": "markdown",
   "id": "b9a53a36-bf99-4b86-ab53-70659aea1ccb",
   "metadata": {},
   "source": [
    "Will do the same in python. \n",
    "\n",
    "Workbook: https://www.kaggle.com/code/jhoward/linear-model-and-neural-net-from-scratch"
   ]
  },
  {
   "cell_type": "markdown",
   "id": "94bfb59d-0838-432d-a72c-c7e689c11f46",
   "metadata": {},
   "source": [
    "Pandas, numpy tricks\n"
   ]
  },
  {
   "cell_type": "markdown",
   "id": "38e9a71a-8266-44db-8b74-33180373f651",
   "metadata": {},
   "source": [
    "A lot of details of pandas when preparing the data.\n",
    "\n",
    "log of things that can grow fast (money)\n",
    "\n",
    "Dummy variables to reaplace strings with booleans\n",
    "\n",
    "Tensor (generalized array, vector, matrixes)\n",
    "\n",
    "Broadcasting APL\n",
    "\n",
    "All the colums should have the same range (normalization)\n",
    "\n",
    "sympy , symbolic operations\n",
    "\n",
    "sigmoid, squesing data beetween 0 and 1 (last layer) Previous layers using RELU\n",
    "(activation function)\n",
    "\n",
    "Linear Model:\n",
    "What are the 3 types of linear models?\n",
    "Simple linear regression: models using only one predictor. Multiple linear regression: models using multiple predictors. Multivariate linear regression: models for multiple response variables.\n",
    "\n",
    "Neural Network from scratch (pytorch) with one hidden layer:\n",
    "\n",
    "Neural Network from scratch (pytorch) with several hidden layers (deep learning)\n",
    "\n",
    "Using a framework.\n",
    "Good for learninig to do from scratch.\n",
    "\n",
    "\n",
    "Deep learning is not particually useful for smaller datasets (tables). Other approches will give better results because one can reason aboou the data.\n",
    "One tabular data a lot of time need to be used on feature engineering\n",
    "\n",
    "\n",
    "Ensembling , make many models\n",
    "\n",
    "\n",
    "\n",
    "How random forests really work.\n",
    "From 1999\n",
    "\n",
    "Binary Split - Splitting rows into to groups \n",
    "(e.g titaninc Sex vs Survived)\n",
    "\n",
    "1R - Decision tree with a simple binary split.\n",
    "\n",
    "\n",
    "\n",
    "\n",
    "\n",
    "\n",
    "\n",
    "\n",
    "\n",
    "\n",
    "\n"
   ]
  }
 ],
 "metadata": {
  "kernelspec": {
   "display_name": "Python 3 (ipykernel)",
   "language": "python",
   "name": "python3"
  },
  "language_info": {
   "codemirror_mode": {
    "name": "ipython",
    "version": 3
   },
   "file_extension": ".py",
   "mimetype": "text/x-python",
   "name": "python",
   "nbconvert_exporter": "python",
   "pygments_lexer": "ipython3",
   "version": "3.9.13"
  }
 },
 "nbformat": 4,
 "nbformat_minor": 5
}
