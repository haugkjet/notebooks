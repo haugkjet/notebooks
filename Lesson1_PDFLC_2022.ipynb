{
 "cells": [
  {
   "cell_type": "markdown",
   "id": "21b9bdb5-4211-4c56-9295-fdc17115e368",
   "metadata": {},
   "source": [
    "Intro. Is a a bird example in 2 minutes"
   ]
  },
  {
   "cell_type": "markdown",
   "id": "643d55e6-73a3-40f6-b1fe-0216ec10d4ba",
   "metadata": {},
   "source": [
    "Main point, little code accessable for free for everybody.\n"
   ]
  },
  {
   "cell_type": "markdown",
   "id": "a7c58ed8-18e0-433c-8c96-0e01576adffc",
   "metadata": {},
   "source": [
    "Dalle 2 exmaples, Midjourney"
   ]
  },
  {
   "cell_type": "markdown",
   "id": "6c2a8113-251d-4feb-9d98-28993f090e06",
   "metadata": {},
   "source": [
    "Google pathway. Can answer a question but also give a reasoning behind it"
   ]
  },
  {
   "cell_type": "markdown",
   "id": "da1cf500-5cdc-4687-9649-88b345f529f9",
   "metadata": {},
   "source": [
    "Making learning whole\n"
   ]
  },
  {
   "cell_type": "markdown",
   "id": "7bd2b93a-4e70-4af2-9cee-e3a671ba339d",
   "metadata": {},
   "source": [
    "Learn by doing (context), you do not need the theory of baseball to play baseball\n",
    "\n",
    "Start first with building and deploying models, learn how and why things work later.\n",
    "\n",
    "Book is different from the course (by purpose), learn better by getting varied sources and perspectives.\n",
    "\n",
    "https://course.fast.ai/Resources/book.html"
   ]
  },
  {
   "cell_type": "markdown",
   "id": "10609176-ac19-47b4-8d3c-a0039ee24068",
   "metadata": {},
   "source": [
    "Why now and not 10 years ago?\n",
    "\n",
    "Then features needed to be build manually, now the neural net does it for us"
   ]
  },
  {
   "cell_type": "markdown",
   "id": "3b7cfdb1-4419-4af6-bd5b-b88f63364bd5",
   "metadata": {},
   "source": [
    "We ask it to learn features, sets of weights find features"
   ]
  },
  {
   "cell_type": "markdown",
   "id": "dece1ca4-417a-47b2-853f-f855c41cb850",
   "metadata": {},
   "source": [
    "Deep learning means we are taking featurs and combining them into more advanced features\n"
   ]
  },
  {
   "cell_type": "markdown",
   "id": "01047474-f370-4927-831c-4033db7da470",
   "metadata": {},
   "source": [
    "We no not need to handcode the features we are looking for"
   ]
  },
  {
   "cell_type": "markdown",
   "id": "777ae18e-25d2-4272-9c55-7621d71bfda0",
   "metadata": {},
   "source": [
    "Non image problems can be turned into image problems eg clasiify sounds"
   ]
  },
  {
   "cell_type": "markdown",
   "id": "83ed83aa-1466-419a-b332-a880625d5148",
   "metadata": {},
   "source": [
    "Do not need \n",
    "* Lots of math\n",
    "* Lots of data \n",
    "* Expensive comuters"
   ]
  },
  {
   "cell_type": "markdown",
   "id": "a2637cc6-0ebf-465e-9f60-5cc581033c68",
   "metadata": {},
   "source": [
    "Reason: Transfer learning"
   ]
  },
  {
   "cell_type": "markdown",
   "id": "b49c0dfc-e588-415d-80b8-59ed15b18b4c",
   "metadata": {},
   "source": [
    "Tensorflow is declining whereas Pytorch is growing"
   ]
  },
  {
   "cell_type": "markdown",
   "id": "36373386-a70c-47f8-afc8-ee5fcaf40d79",
   "metadata": {},
   "source": [
    "Fastai is built on top of Pytorch (Pytorch is a foundcation)"
   ]
  },
  {
   "cell_type": "markdown",
   "id": "c3f39240-de38-4006-aeca-82a871b7c7ca",
   "metadata": {},
   "source": [
    "Less code is better"
   ]
  },
  {
   "cell_type": "markdown",
   "id": "03880e6a-14f9-4e9a-8b5a-85faec6685b7",
   "metadata": {},
   "source": [
    "Jypyter notebooks, explorative coding (and documetation)"
   ]
  },
  {
   "cell_type": "markdown",
   "id": "171bdb50-a330-4cdf-bebb-3dd8f511646a",
   "metadata": {},
   "source": [
    "Jupyter and run on own computer or cloud server (Kaggle, Colab)"
   ]
  },
  {
   "cell_type": "markdown",
   "id": "76264431-f015-41f5-8032-4ffbb6540927",
   "metadata": {},
   "source": [
    "Go though https://www.kaggle.com/code/kjetilh/jupyter-notebook-101"
   ]
  },
  {
   "cell_type": "markdown",
   "id": "1f553fa5-6090-4e14-9479-e18c12354325",
   "metadata": {},
   "source": [
    "Explanation of is-it-a-bird-creating-a-model-from-your-own-data"
   ]
  },
  {
   "cell_type": "markdown",
   "id": "81076986-f10f-448b-b78d-450ed4482ed3",
   "metadata": {},
   "source": [
    "Run copy and run in Kaggle"
   ]
  },
  {
   "cell_type": "markdown",
   "id": "e9d281e4-cf44-407b-b40a-3ce577c9c86b",
   "metadata": {},
   "source": []
  }
 ],
 "metadata": {
  "kernelspec": {
   "display_name": "Python 3 (ipykernel)",
   "language": "python",
   "name": "python3"
  },
  "language_info": {
   "codemirror_mode": {
    "name": "ipython",
    "version": 3
   },
   "file_extension": ".py",
   "mimetype": "text/x-python",
   "name": "python",
   "nbconvert_exporter": "python",
   "pygments_lexer": "ipython3",
   "version": "3.9.13"
  }
 },
 "nbformat": 4,
 "nbformat_minor": 5
}
