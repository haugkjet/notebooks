{
 "cells": [
  {
   "cell_type": "markdown",
   "id": "21b9bdb5-4211-4c56-9295-fdc17115e368",
   "metadata": {},
   "source": [
    "Intro. Is a a bird example in 2 minutes"
   ]
  },
  {
   "cell_type": "markdown",
   "id": "643d55e6-73a3-40f6-b1fe-0216ec10d4ba",
   "metadata": {},
   "source": [
    "Main point, little code, accessible for free for everybody.\n"
   ]
  },
  {
   "cell_type": "markdown",
   "id": "a7c58ed8-18e0-433c-8c96-0e01576adffc",
   "metadata": {},
   "source": [
    "Dalle 2 examples, Midjourney"
   ]
  },
  {
   "cell_type": "markdown",
   "id": "6c2a8113-251d-4feb-9d98-28993f090e06",
   "metadata": {},
   "source": [
    "Google pathway. Can answer a question but also give a reasoning behind it"
   ]
  },
  {
   "cell_type": "markdown",
   "id": "da1cf500-5cdc-4687-9649-88b345f529f9",
   "metadata": {},
   "source": [
    "Making learning whole\n"
   ]
  },
  {
   "cell_type": "markdown",
   "id": "7bd2b93a-4e70-4af2-9cee-e3a671ba339d",
   "metadata": {},
   "source": [
    "Learn by doing (context), you do not need the theory of baseball to play baseball\n",
    "\n",
    "Start first with building and deploying models, learn how and why things work later.\n",
    "\n",
    "Book is different from the course (by purpose), learn better by getting varied sources and perspectives.\n",
    "\n",
    "https://course.fast.ai/Resources/book.html"
   ]
  },
  {
   "cell_type": "markdown",
   "id": "10609176-ac19-47b4-8d3c-a0039ee24068",
   "metadata": {},
   "source": [
    "Why now and not 10 years ago?\n",
    "\n",
    "Then features needed to be build manually, now the neural net does it for us"
   ]
  },
  {
   "cell_type": "markdown",
   "id": "3b7cfdb1-4419-4af6-bd5b-b88f63364bd5",
   "metadata": {},
   "source": [
    "We ask it to learn features, sets of weights find features"
   ]
  },
  {
   "cell_type": "markdown",
   "id": "dece1ca4-417a-47b2-853f-f855c41cb850",
   "metadata": {},
   "source": [
    "Deep learning means we are taking featurs and combining them into more advanced features\n"
   ]
  },
  {
   "cell_type": "markdown",
   "id": "01047474-f370-4927-831c-4033db7da470",
   "metadata": {},
   "source": [
    "We no not need to handcode the features we are looking for"
   ]
  },
  {
   "cell_type": "markdown",
   "id": "777ae18e-25d2-4272-9c55-7621d71bfda0",
   "metadata": {},
   "source": [
    "Non image problems can be turned into image problems eg clasiify sounds"
   ]
  },
  {
   "cell_type": "markdown",
   "id": "83ed83aa-1466-419a-b332-a880625d5148",
   "metadata": {},
   "source": [
    "Do not need \n",
    "* Lots of math\n",
    "* Lots of data \n",
    "* Expensive comuters"
   ]
  },
  {
   "cell_type": "markdown",
   "id": "a2637cc6-0ebf-465e-9f60-5cc581033c68",
   "metadata": {},
   "source": [
    "Reason: Transfer learning"
   ]
  },
  {
   "cell_type": "markdown",
   "id": "b49c0dfc-e588-415d-80b8-59ed15b18b4c",
   "metadata": {},
   "source": [
    "Tensorflow is declining whereas Pytorch is growing"
   ]
  },
  {
   "cell_type": "markdown",
   "id": "36373386-a70c-47f8-afc8-ee5fcaf40d79",
   "metadata": {},
   "source": [
    "Fastai is built on top of Pytorch (Pytorch is a foundcation)"
   ]
  },
  {
   "cell_type": "markdown",
   "id": "c3f39240-de38-4006-aeca-82a871b7c7ca",
   "metadata": {},
   "source": [
    "Less code is better"
   ]
  },
  {
   "cell_type": "markdown",
   "id": "03880e6a-14f9-4e9a-8b5a-85faec6685b7",
   "metadata": {},
   "source": [
    "Jypyter notebooks, explorative coding (and documetation)"
   ]
  },
  {
   "cell_type": "markdown",
   "id": "171bdb50-a330-4cdf-bebb-3dd8f511646a",
   "metadata": {},
   "source": [
    "Jupyter and run on own computer or cloud server (Kaggle, Colab)"
   ]
  },
  {
   "cell_type": "markdown",
   "id": "76264431-f015-41f5-8032-4ffbb6540927",
   "metadata": {},
   "source": [
    "Go though https://www.kaggle.com/code/kjetilh/jupyter-notebook-101"
   ]
  },
  {
   "cell_type": "markdown",
   "id": "1f553fa5-6090-4e14-9479-e18c12354325",
   "metadata": {},
   "source": [
    "Explanation of is-it-a-bird-creating-a-model-from-your-own-data"
   ]
  },
  {
   "cell_type": "markdown",
   "id": "81076986-f10f-448b-b78d-450ed4482ed3",
   "metadata": {},
   "source": [
    "Run copy and run in Kaggle"
   ]
  },
  {
   "cell_type": "markdown",
   "id": "e9d281e4-cf44-407b-b40a-3ce577c9c86b",
   "metadata": {},
   "source": [
    "Main points:\n",
    "\n",
    "* pyhton is a consise language, not a lot of code\n",
    "* fast.ai provide libraries such as fastdownload.\n",
    "* Good to view the data to make sure it is ok.\n",
    "* Resize images. They not need to be big\n",
    "* Datablock, key concept in fast. How to get data into model.\n",
    "     * What kind of input/output (in: image out:category in this example). Fast will find the model\n",
    "     * get_items. List of data\n",
    "     * Splitter (create validation set, test set)\n",
    "     * How do we know the correct label (bird/forest) ? Look at path when downloading\n",
    "     * Item transforms.\n",
    "* Dataloader: The thing that fast.ai iterates though to grab a bunch of data at a time (batches sent to gpu)\n",
    "* Deep learing community has found models that work, less need to tweak network architectures etc, at least in the beginning\n",
    "* Functional programming style used in AI and by Jeremy.\n",
    "* docs.fast.io to find full documentation of dataloaders.\n",
    "* What model to we need (concept: learner =  model + data)\n",
    "* TIMM model library included in fastai. (restnet will do in the beginning)\n",
    "* Restnet is downloaded with predefined weights (1mill images 1000 categiries), and fine_tuned for this applicaation to rekocnise birds from forest.\n",
    "* learn.predict will use the model"
   ]
  },
  {
   "cell_type": "markdown",
   "id": "dd6df3e5-fd58-41f4-8b9d-12f64c19a33b",
   "metadata": {},
   "source": [
    "Not just for image regognition, also segmentation, example showed.\n",
    "* SegmentationDataLoaders requires less cod than more general datablocks.\n",
    "\n",
    "Tabular data: TabularDataLoaders. from csv. Need to tell about columns\n",
    "* Show batch. type_dispatch. Show useful things of data, regardless of data.\n",
    "* No pretrained model. no fine tuning.\n",
    "\n",
    "Collaborative filtering\n",
    "* Recommendation systems\n",
    "* CollabDataLoaders\n",
    "* collab_learner. No pretrained.\n",
    "\n",
    "learn.show results.\n"
   ]
  },
  {
   "cell_type": "markdown",
   "id": "83bfa7cc-58aa-4455-b35a-f9f577c4205b",
   "metadata": {},
   "source": [
    "RICE - Jupyter notebook slideshow extension"
   ]
  },
  {
   "cell_type": "markdown",
   "id": "1bf2f986-844e-414b-8d98-8073e44fc499",
   "metadata": {},
   "source": [
    "Fastbook in written in Jypyter notebooks. Good for blogging"
   ]
  },
  {
   "cell_type": "markdown",
   "id": "456b0051-e879-4cfb-be39-2b6d76a872da",
   "metadata": {},
   "source": [
    "nbs full suite for developeing python apps \n",
    "\n",
    "View notebook as document on the fly.\n",
    "https://nbviewer.org/"
   ]
  },
  {
   "cell_type": "markdown",
   "id": "999d91fd-1de8-4eb7-b1c6-2c772cb3003c",
   "metadata": {},
   "source": [
    "Deep Learning - good for thing that humans are good at. Lots of data, not logical thoughtprocess over an extended period of time"
   ]
  },
  {
   "cell_type": "markdown",
   "id": "11a077bd-61b2-4521-a76d-376db29fc665",
   "metadata": {},
   "source": [
    "Root in the 50s"
   ]
  },
  {
   "cell_type": "markdown",
   "id": "afa59c48-dca7-47c3-84d8-6695ed121356",
   "metadata": {},
   "source": [
    "GraphViz for diagram in the Notebook."
   ]
  },
  {
   "cell_type": "markdown",
   "id": "7d07d575-e70d-4c56-ae97-f8eb92c41bc0",
   "metadata": {},
   "source": [
    "Normal program -> inputs -> program -> output"
   ]
  },
  {
   "cell_type": "markdown",
   "id": "1125ba94-68f2-4d8c-92bc-abfa08bf4335",
   "metadata": {},
   "source": [
    "Deep Learning -> input and weights -> model -> result\n",
    "* the model is a mathematical function.\n",
    "* The model will not do anything useful unless weights are carefully chosen. Starts with random weights.\n",
    "Deep Learning -> input and weights -> model -> result - loss -> update weights"
   ]
  },
  {
   "cell_type": "markdown",
   "id": "256980b3-db67-4c97-a69d-5fc20c6d600e",
   "metadata": {},
   "source": [
    "The loss will be better next time and iteerate a few times until is good (assuming that the model is flexible engough to represent the thing you want to do)"
   ]
  },
  {
   "cell_type": "markdown",
   "id": "40b4b90a-a0ec-4288-9057-4b00bcb7fe96",
   "metadata": {},
   "source": [
    "Will reprsent a (often very compplex) computable function."
   ]
  },
  {
   "cell_type": "markdown",
   "id": "3f242429-9c0b-42a5-9701-1fb0331ab3f7",
   "metadata": {},
   "source": [
    "After traning has finished, we do not need the loss function feedback and the weight are baked into the model:\n",
    "So in production:\n",
    "inputs -> model -> results (like a program learn.predict)\n"
   ]
  },
  {
   "cell_type": "markdown",
   "id": "16d8cbe7-874f-4fa5-a7b8-37bda5efe10e",
   "metadata": {},
   "source": [
    "Deploying a model can be tricky with a lot of details."
   ]
  },
  {
   "cell_type": "markdown",
   "id": "4c0afa75-3f99-4329-b759-03cf030db63f",
   "metadata": {},
   "source": [
    "Experimenting is the most important thing in the beginning"
   ]
  },
  {
   "cell_type": "markdown",
   "id": "44e14310-e507-4041-890b-9d8bbf157e47",
   "metadata": {},
   "source": [
    "Read the book: Same information presented is a different way. Good for learning"
   ]
  },
  {
   "cell_type": "code",
   "execution_count": null,
   "id": "42805383-7e02-43ad-881c-2bfd4c5c023b",
   "metadata": {},
   "outputs": [],
   "source": []
  }
 ],
 "metadata": {
  "kernelspec": {
   "display_name": "Python 3 (ipykernel)",
   "language": "python",
   "name": "python3"
  },
  "language_info": {
   "codemirror_mode": {
    "name": "ipython",
    "version": 3
   },
   "file_extension": ".py",
   "mimetype": "text/x-python",
   "name": "python",
   "nbconvert_exporter": "python",
   "pygments_lexer": "ipython3",
   "version": "3.9.13"
  }
 },
 "nbformat": 4,
 "nbformat_minor": 5
}
